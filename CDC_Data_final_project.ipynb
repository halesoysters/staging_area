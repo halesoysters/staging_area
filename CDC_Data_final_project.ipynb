{
  "nbformat": 4,
  "nbformat_minor": 0,
  "metadata": {
    "colab": {
      "provenance": []
    },
    "kernelspec": {
      "name": "python3",
      "display_name": "Python 3"
    },
    "language_info": {
      "name": "python"
    }
  },
  "cells": [
    {
      "cell_type": "code",
      "execution_count": 4,
      "metadata": {
        "colab": {
          "base_uri": "https://localhost:8080/"
        },
        "id": "v4Spi2uO5o2f",
        "outputId": "91344411-df88-4479-e68e-dae82e39d8b5"
      },
      "outputs": [
        {
          "output_type": "stream",
          "name": "stdout",
          "text": [
            "\r0% [Working]\r            \rHit:1 http://archive.ubuntu.com/ubuntu bionic InRelease\n",
            "\r0% [Waiting for headers] [Connected to cloud.r-project.org (65.9.86.12)] [Conne\r                                                                               \rHit:2 http://archive.ubuntu.com/ubuntu bionic-updates InRelease\n",
            "\r                                                                               \rHit:3 http://security.ubuntu.com/ubuntu bionic-security InRelease\n",
            "\r                                                                               \rHit:4 http://ppa.launchpad.net/c2d4u.team/c2d4u4.0+/ubuntu bionic InRelease\n",
            "\r0% [Waiting for headers] [Connected to cloud.r-project.org (65.9.86.12)] [Waiti\r0% [1 InRelease gpgv 242 kB] [Waiting for headers] [Connected to cloud.r-projec\r                                                                               \rHit:5 http://archive.ubuntu.com/ubuntu bionic-backports InRelease\n",
            "\r0% [1 InRelease gpgv 242 kB] [Connected to cloud.r-project.org (65.9.86.12)] [W\r                                                                               \rHit:6 http://ppa.launchpad.net/cran/libgit2/ubuntu bionic InRelease\n",
            "\r0% [1 InRelease gpgv 242 kB] [Connected to cloud.r-project.org (65.9.86.12)] [W\r                                                                               \rHit:7 https://cloud.r-project.org/bin/linux/ubuntu bionic-cran40/ InRelease\n",
            "\r0% [1 InRelease gpgv 242 kB] [Waiting for headers] [Connecting to ppa.launchpad\r                                                                               \rHit:8 http://ppa.launchpad.net/deadsnakes/ppa/ubuntu bionic InRelease\n",
            "Hit:9 http://ppa.launchpad.net/graphics-drivers/ppa/ubuntu bionic InRelease\n",
            "Ign:10 https://developer.download.nvidia.com/compute/machine-learning/repos/ubuntu1804/x86_64  InRelease\n",
            "Hit:11 https://developer.download.nvidia.com/compute/cuda/repos/ubuntu1804/x86_64  InRelease\n",
            "Hit:12 https://developer.download.nvidia.com/compute/machine-learning/repos/ubuntu1804/x86_64  Release\n",
            "Reading package lists... Done\n"
          ]
        }
      ],
      "source": [
        "import os\n",
        "\n",
        "spark_version = 'spark-3.1.3'\n",
        "os.environ['SPARK_VERSION']=spark_version\n",
        "\n",
        "# Install Spark and Java\n",
        "!apt-get update\n",
        "!apt-get install openjdk-11-jdk-headless -qq > /dev/null\n",
        "!wget -q http://www.apache.org/dist/spark/$SPARK_VERSION/$SPARK_VERSION-bin-hadoop2.7.tgz\n",
        "!tar xf $SPARK_VERSION-bin-hadoop2.7.tgz\n",
        "!pip install -q findspark\n",
        "\n",
        "# Set Environment Variables\n",
        "import os\n",
        "os.environ[\"JAVA_HOME\"] = \"/usr/lib/jvm/java-11-openjdk-amd64\"\n",
        "os.environ[\"SPARK_HOME\"] = f\"/content/{spark_version}-bin-hadoop2.7\"\n",
        "\n",
        "# Start a SparkSession\n",
        "import findspark\n",
        "findspark.init()"
      ]
    },
    {
      "cell_type": "code",
      "source": [
        "# Start Spark session\n",
        "from pyspark.sql import SparkSession\n",
        "!wget https://jdbc.postgresql.org/download/postgresql-42.2.9.jar"
      ],
      "metadata": {
        "colab": {
          "base_uri": "https://localhost:8080/"
        },
        "id": "LajsFObV5waf",
        "outputId": "cd45a472-6c52-49a0-dac0-6f9c9f166651"
      },
      "execution_count": 5,
      "outputs": [
        {
          "output_type": "stream",
          "name": "stdout",
          "text": [
            "--2022-11-04 02:18:48--  https://jdbc.postgresql.org/download/postgresql-42.2.9.jar\n",
            "Resolving jdbc.postgresql.org (jdbc.postgresql.org)... 72.32.157.228, 2001:4800:3e1:1::228\n",
            "Connecting to jdbc.postgresql.org (jdbc.postgresql.org)|72.32.157.228|:443... connected.\n",
            "HTTP request sent, awaiting response... 200 OK\n",
            "Length: 914037 (893K) [application/java-archive]\n",
            "Saving to: ‘postgresql-42.2.9.jar’\n",
            "\n",
            "postgresql-42.2.9.j 100%[===================>] 892.61K  1.67MB/s    in 0.5s    \n",
            "\n",
            "2022-11-04 02:18:50 (1.67 MB/s) - ‘postgresql-42.2.9.jar’ saved [914037/914037]\n",
            "\n"
          ]
        }
      ]
    },
    {
      "cell_type": "code",
      "source": [
        "spark = SparkSession.builder.appName(\"CloudETL\").config(\"spark.driver.extraClassPath\",\"/content/postgresql-42.2.9.jar\").getOrCreate()"
      ],
      "metadata": {
        "id": "Un-jDVK57WQF"
      },
      "execution_count": 6,
      "outputs": []
    },
    {
      "cell_type": "markdown",
      "source": [
        "# Extract\n"
      ],
      "metadata": {
        "id": "0heMUljPas7B"
      }
    },
    {
      "cell_type": "code",
      "source": [
        "# Read in data from S3 Buckets\n",
        "from pyspark import SparkFiles\n",
        "url = \"https://county-pop-df.s3.us-west-2.amazonaws.com/county_pop_df.csv\"\n",
        "spark.sparkContext.addFile(url)\n",
        "county_pop_df = spark.read.csv(SparkFiles.get(\"county_pop_df.csv\"), sep=\",\", header=True,)"
      ],
      "metadata": {
        "id": "8FzjYpcQ7afm"
      },
      "execution_count": 7,
      "outputs": []
    },
    {
      "cell_type": "code",
      "source": [
        "county_pop_df.show(5)"
      ],
      "metadata": {
        "colab": {
          "base_uri": "https://localhost:8080/"
        },
        "id": "MkLaq5HIJ42v",
        "outputId": "40b008d3-a766-48bd-d142-c25b6ecc2af0"
      },
      "execution_count": 8,
      "outputs": [
        {
          "output_type": "stream",
          "name": "stdout",
          "text": [
            "+---------+----------+----------+---------------+-------------------+-----------------+---------------+-------------+----------------+--------------+---------------+-------------+----------------+--------------+-----------------+---------------+------------------+----------------+-------------+-----------+-----------------+---------------+--------------------+------------------+----------------------+--------------------+--------------+------------+---------------+-------------+---------------+-------------+------------------+----------------+----------------+--------------+--------------------+------------------+------------------+----------------+---------------+-------------+------------------+----------------+----------------+--------------+-------------+-----------+------------------+----------------+---------------+-------------+-----------------+---------------+---------------+-------------+---------------+-------------+----------------+--------------+-------------------+-----------------+--------------------+-----------+\n",
            "|StateDesc|CountyName|CountyFIPS|TotalPopulation|ARTHRITIS_CrudePrev|ARTHRITIS_AdjPrev|BINGE_CrudePrev|BINGE_AdjPrev|BPHIGH_CrudePrev|BPHIGH_AdjPrev|BPMED_CrudePrev|BPMED_AdjPrev|CANCER_CrudePrev|CANCER_AdjPrev|CASTHMA_CrudePrev|CASTHMA_AdjPrev|CERVICAL_CrudePrev|CERVICAL_AdjPrev|CHD_CrudePrev|CHD_AdjPrev|CHECKUP_CrudePrev|CHECKUP_AdjPrev|CHOLSCREEN_CrudePrev|CHOLSCREEN_AdjPrev|COLON_SCREEN_CrudePrev|COLON_SCREEN_AdjPrev|COPD_CrudePrev|COPD_AdjPrev|COREM_CrudePrev|COREM_AdjPrev|COREW_CrudePrev|COREW_AdjPrev|CSMOKING_CrudePrev|CSMOKING_AdjPrev|DENTAL_CrudePrev|DENTAL_AdjPrev|DEPRESSION_CrudePrev|DEPRESSION_AdjPrev|DIABETES_CrudePrev|DIABETES_AdjPrev|GHLTH_CrudePrev|GHLTH_AdjPrev|HIGHCHOL_CrudePrev|HIGHCHOL_AdjPrev|KIDNEY_CrudePrev|KIDNEY_AdjPrev|LPA_CrudePrev|LPA_AdjPrev|MAMMOUSE_CrudePrev|MAMMOUSE_AdjPrev|MHLTH_CrudePrev|MHLTH_AdjPrev|OBESITY_CrudePrev|OBESITY_AdjPrev|PHLTH_CrudePrev|PHLTH_AdjPrev|SLEEP_CrudePrev|SLEEP_AdjPrev|STROKE_CrudePrev|STROKE_AdjPrev|TEETHLOST_CrudePrev|TEETHLOST_AdjPrev|         Geolocation| RuralUrban|\n",
            "+---------+----------+----------+---------------+-------------------+-----------------+---------------+-------------+----------------+--------------+---------------+-------------+----------------+--------------+-----------------+---------------+------------------+----------------+-------------+-----------+-----------------+---------------+--------------------+------------------+----------------------+--------------------+--------------+------------+---------------+-------------+---------------+-------------+------------------+----------------+----------------+--------------+--------------------+------------------+------------------+----------------+---------------+-------------+------------------+----------------+----------------+--------------+-------------+-----------+------------------+----------------+---------------+-------------+-----------------+---------------+---------------+-------------+---------------+-------------+----------------+--------------+-------------------+-----------------+--------------------+-----------+\n",
            "| Oklahoma|   Jackson|     40065|          24530|               23.5|             23.0|           13.6|         13.6|            34.5|          34.1|           73.8|         57.9|             6.3|           6.1|              9.7|            9.7|              82.2|            83.0|          6.7|        6.3|             74.4|           74.1|                83.5|              83.8|                  60.2|                58.7|           7.3|         7.1|           33.1|         25.2|           31.8|         23.7|              17.0|            17.4|            61.2|          61.1|                21.2|              21.2|              12.1|            11.8|           22.6|         22.6|              33.8|            31.3|             3.2|           3.1|         38.3|       38.5|              71.8|            71.5|           15.0|         15.0|             35.6|           36.3|           13.8|         13.8|           37.1|         37.7|             3.4|           3.3|               18.6|             18.8|POINT (-99.414674...|Micro-Urban|\n",
            "| Illinois|  Lawrence|     17101|          15678|               27.9|             25.6|           20.4|         21.5|            35.4|          33.3|           73.6|         56.8|             7.4|           6.5|              9.5|            9.5|              81.6|            82.2|          7.3|        6.4|             74.6|           73.4|                83.9|              83.0|                  62.9|                61.2|           8.7|         8.0|           32.3|         24.7|           27.8|         20.6|              21.2|            21.7|            58.0|          57.8|                21.1|              21.2|              11.7|            10.7|           21.6|         20.9|              33.1|            29.3|             3.2|           2.9|         30.8|       30.3|              69.0|            68.7|           15.4|         15.8|             38.4|           38.8|           14.5|         13.9|           36.1|         36.8|             3.8|           3.4|               17.1|             17.2|POINT (-87.726842...|Micro-Urban|\n",
            "|   Kansas|    Barton|     20009|          25779|               27.7|             23.7|           15.4|         17.1|            37.2|          32.9|           77.1|         56.8|             7.9|           6.4|              9.6|            9.7|              81.6|            82.6|          7.4|        5.8|             75.1|           72.6|                83.9|              82.1|                  60.6|                58.4|           7.9|         6.7|           31.6|         24.4|           29.8|         22.3|              17.8|            18.7|            60.0|          59.3|                18.6|              19.0|              13.0|            11.0|           21.1|         20.0|              36.2|            30.4|             3.4|           2.9|         32.7|       32.1|              69.7|            69.0|           14.6|         15.4|             36.5|           37.0|           13.4|         12.5|           32.9|         34.2|             3.8|           3.1|               17.1|             17.2|POINT (-98.756321...|Micro-Urban|\n",
            "|   Alaska| Anchorage|      2020|         288000|               19.3|             20.0|           18.8|         18.2|            28.8|          29.8|           64.0|         48.5|             5.6|           6.0|              9.3|            9.2|              83.5|            84.1|          4.5|        4.8|             68.1|           68.8|                80.4|              81.2|                  59.2|                58.4|           4.9|         5.0|           26.7|         20.8|           33.4|         25.1|              15.5|            15.3|            68.2|          68.5|                17.3|              17.0|               8.1|             8.3|           15.1|         15.3|              29.4|            27.8|             2.4|           2.5|         20.2|       20.5|              68.4|            67.4|           12.7|         12.4|             30.6|           30.7|           10.0|         10.1|           34.6|         34.4|             2.6|           2.7|               11.7|             12.2|POINT (-149.11410...|      Urban|\n",
            "| Oklahoma|  Stephens|     40137|          43143|               30.4|             25.7|           12.0|         13.5|            41.3|          36.0|           77.6|         57.7|             8.2|           6.6|             10.3|           10.5|              81.5|            82.3|          8.8|        6.8|             77.2|           74.5|                85.1|              82.8|                  56.8|                54.6|           9.9|         8.4|           33.3|         25.5|           36.6|         27.2|              20.8|            21.8|            58.9|          58.3|                23.2|              23.9|              12.8|            10.5|           23.8|         22.2|              36.3|            30.0|             3.6|           3.0|         40.1|       39.1|              69.9|            69.6|           15.7|         16.7|             36.4|           36.5|           15.9|         14.6|           36.0|         37.3|             4.3|           3.5|               20.4|             20.6|POINT (-97.851492...|Micro-Urban|\n",
            "+---------+----------+----------+---------------+-------------------+-----------------+---------------+-------------+----------------+--------------+---------------+-------------+----------------+--------------+-----------------+---------------+------------------+----------------+-------------+-----------+-----------------+---------------+--------------------+------------------+----------------------+--------------------+--------------+------------+---------------+-------------+---------------+-------------+------------------+----------------+----------------+--------------+--------------------+------------------+------------------+----------------+---------------+-------------+------------------+----------------+----------------+--------------+-------------+-----------+------------------+----------------+---------------+-------------+-----------------+---------------+---------------+-------------+---------------+-------------+----------------+--------------+-------------------+-----------------+--------------------+-----------+\n",
            "only showing top 5 rows\n",
            "\n"
          ]
        }
      ]
    },
    {
      "cell_type": "markdown",
      "source": [
        "# Transform\n"
      ],
      "metadata": {
        "id": "1bxjKGTOa56F"
      }
    },
    {
      "cell_type": "code",
      "source": [
        "county_pop_df = county_pop_df.dropna()"
      ],
      "metadata": {
        "id": "0Qpb2XpkQhA4"
      },
      "execution_count": 9,
      "outputs": []
    },
    {
      "cell_type": "code",
      "source": [
        "county_pop_df.printSchema()"
      ],
      "metadata": {
        "colab": {
          "base_uri": "https://localhost:8080/"
        },
        "id": "-lTURiIFQsRW",
        "outputId": "ec08fa5a-ca6b-48ca-89f0-988b603fe474"
      },
      "execution_count": 10,
      "outputs": [
        {
          "output_type": "stream",
          "name": "stdout",
          "text": [
            "root\n",
            " |-- StateDesc: string (nullable = true)\n",
            " |-- CountyName: string (nullable = true)\n",
            " |-- CountyFIPS: string (nullable = true)\n",
            " |-- TotalPopulation: string (nullable = true)\n",
            " |-- ARTHRITIS_CrudePrev: string (nullable = true)\n",
            " |-- ARTHRITIS_AdjPrev: string (nullable = true)\n",
            " |-- BINGE_CrudePrev: string (nullable = true)\n",
            " |-- BINGE_AdjPrev: string (nullable = true)\n",
            " |-- BPHIGH_CrudePrev: string (nullable = true)\n",
            " |-- BPHIGH_AdjPrev: string (nullable = true)\n",
            " |-- BPMED_CrudePrev: string (nullable = true)\n",
            " |-- BPMED_AdjPrev: string (nullable = true)\n",
            " |-- CANCER_CrudePrev: string (nullable = true)\n",
            " |-- CANCER_AdjPrev: string (nullable = true)\n",
            " |-- CASTHMA_CrudePrev: string (nullable = true)\n",
            " |-- CASTHMA_AdjPrev: string (nullable = true)\n",
            " |-- CERVICAL_CrudePrev: string (nullable = true)\n",
            " |-- CERVICAL_AdjPrev: string (nullable = true)\n",
            " |-- CHD_CrudePrev: string (nullable = true)\n",
            " |-- CHD_AdjPrev: string (nullable = true)\n",
            " |-- CHECKUP_CrudePrev: string (nullable = true)\n",
            " |-- CHECKUP_AdjPrev: string (nullable = true)\n",
            " |-- CHOLSCREEN_CrudePrev: string (nullable = true)\n",
            " |-- CHOLSCREEN_AdjPrev: string (nullable = true)\n",
            " |-- COLON_SCREEN_CrudePrev: string (nullable = true)\n",
            " |-- COLON_SCREEN_AdjPrev: string (nullable = true)\n",
            " |-- COPD_CrudePrev: string (nullable = true)\n",
            " |-- COPD_AdjPrev: string (nullable = true)\n",
            " |-- COREM_CrudePrev: string (nullable = true)\n",
            " |-- COREM_AdjPrev: string (nullable = true)\n",
            " |-- COREW_CrudePrev: string (nullable = true)\n",
            " |-- COREW_AdjPrev: string (nullable = true)\n",
            " |-- CSMOKING_CrudePrev: string (nullable = true)\n",
            " |-- CSMOKING_AdjPrev: string (nullable = true)\n",
            " |-- DENTAL_CrudePrev: string (nullable = true)\n",
            " |-- DENTAL_AdjPrev: string (nullable = true)\n",
            " |-- DEPRESSION_CrudePrev: string (nullable = true)\n",
            " |-- DEPRESSION_AdjPrev: string (nullable = true)\n",
            " |-- DIABETES_CrudePrev: string (nullable = true)\n",
            " |-- DIABETES_AdjPrev: string (nullable = true)\n",
            " |-- GHLTH_CrudePrev: string (nullable = true)\n",
            " |-- GHLTH_AdjPrev: string (nullable = true)\n",
            " |-- HIGHCHOL_CrudePrev: string (nullable = true)\n",
            " |-- HIGHCHOL_AdjPrev: string (nullable = true)\n",
            " |-- KIDNEY_CrudePrev: string (nullable = true)\n",
            " |-- KIDNEY_AdjPrev: string (nullable = true)\n",
            " |-- LPA_CrudePrev: string (nullable = true)\n",
            " |-- LPA_AdjPrev: string (nullable = true)\n",
            " |-- MAMMOUSE_CrudePrev: string (nullable = true)\n",
            " |-- MAMMOUSE_AdjPrev: string (nullable = true)\n",
            " |-- MHLTH_CrudePrev: string (nullable = true)\n",
            " |-- MHLTH_AdjPrev: string (nullable = true)\n",
            " |-- OBESITY_CrudePrev: string (nullable = true)\n",
            " |-- OBESITY_AdjPrev: string (nullable = true)\n",
            " |-- PHLTH_CrudePrev: string (nullable = true)\n",
            " |-- PHLTH_AdjPrev: string (nullable = true)\n",
            " |-- SLEEP_CrudePrev: string (nullable = true)\n",
            " |-- SLEEP_AdjPrev: string (nullable = true)\n",
            " |-- STROKE_CrudePrev: string (nullable = true)\n",
            " |-- STROKE_AdjPrev: string (nullable = true)\n",
            " |-- TEETHLOST_CrudePrev: string (nullable = true)\n",
            " |-- TEETHLOST_AdjPrev: string (nullable = true)\n",
            " |-- Geolocation: string (nullable = true)\n",
            " |-- RuralUrban: string (nullable = true)\n",
            "\n"
          ]
        }
      ]
    },
    {
      "cell_type": "markdown",
      "source": [
        "# Load"
      ],
      "metadata": {
        "id": "frzYPlE8a_LU"
      }
    },
    {
      "cell_type": "code",
      "source": [
        "from getpass import getpass\n",
        "\n",
        "password = getpass('enter pass words here')"
      ],
      "metadata": {
        "colab": {
          "base_uri": "https://localhost:8080/"
        },
        "id": "IhkMXRzkaZqT",
        "outputId": "0c6a5840-d4bf-4437-b00e-9f3aec3125f5"
      },
      "execution_count": 11,
      "outputs": [
        {
          "name": "stdout",
          "output_type": "stream",
          "text": [
            "enter pass words here··········\n"
          ]
        }
      ]
    },
    {
      "cell_type": "code",
      "source": [
        "#***Load\n",
        "#configure settings for RDS\n",
        "mode=\"append\"\n",
        "jdbc_url = \"jdbc:postgresql://b-team-final-project.cct7ahzel1ur.us-west-2.rds.amazonaws.com:5432/B_Team_Final_Project\"\n",
        "config = {\"user\":\"postgres\",\n",
        "          \"password\": password,\n",
        "          \"driver\":\"org.postgresql.Driver\"}"
      ],
      "metadata": {
        "id": "dxudNck3aoY-"
      },
      "execution_count": 12,
      "outputs": []
    },
    {
      "cell_type": "code",
      "source": [
        "#load DataFrames into pgAdmin\n",
        "# Write DataFrame to customers_table in RDS\n",
        "county_pop_df.write.jdbc(url=jdbc_url, table='places_county', mode=mode, properties=config)"
      ],
      "metadata": {
        "id": "l-nk5AQOgLTi"
      },
      "execution_count": 16,
      "outputs": []
    }
  ]
}